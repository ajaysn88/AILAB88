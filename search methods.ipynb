{
 "cells": [
  {
   "cell_type": "code",
   "execution_count": 6,
   "id": "96c8e4f5",
   "metadata": {},
   "outputs": [],
   "source": [
    "from collections import deque"
   ]
  },
  {
   "cell_type": "code",
   "execution_count": 8,
   "id": "9696e61e",
   "metadata": {},
   "outputs": [],
   "source": [
    "graph={\n",
    "    'A':['B','C'],\n",
    "    'B':['D','E'],\n",
    "    'C':['F'],\n",
    "    'D':[],\n",
    "    'E':[],\n",
    "    'F':[]\n",
    "}"
   ]
  },
  {
   "cell_type": "code",
   "execution_count": 15,
   "id": "892160da",
   "metadata": {},
   "outputs": [
    {
     "name": "stdout",
     "output_type": "stream",
     "text": [
      "BFS Traversal order:\n",
      "ABCDEF"
     ]
    }
   ],
   "source": [
    "def bfs(graph,start_node):\n",
    "    visited=set()\n",
    "    queue=deque([start_node])\n",
    "    print(\"BFS Traversal order:\")\n",
    "    while queue:\n",
    "        current_node=queue.popleft()\n",
    "        if current_node not in visited:\n",
    "            print(current_node,end='')\n",
    "            visited.add(current_node)\n",
    "            for neighbor in graph[current_node]:\n",
    "                if neighbor not in visited:\n",
    "                    queue.append(neighbor)\n",
    "bfs(graph,'A')"
   ]
  },
  {
   "cell_type": "code",
   "execution_count": 16,
   "id": "02cffbef",
   "metadata": {},
   "outputs": [
    {
     "name": "stdout",
     "output_type": "stream",
     "text": [
      "DFS Traversal order (using stack):\n",
      "ABDECF"
     ]
    }
   ],
   "source": [
    "def dfs_using_stack(graph,start_node):\n",
    "    stack=[start_node]\n",
    "    visited=set()\n",
    "    while stack:\n",
    "        current_node=stack.pop()\n",
    "        if current_node not in visited:\n",
    "            print(current_node,end='')\n",
    "            visited.add(current_node)\n",
    "            for neighbor in reversed(graph[current_node]):\n",
    "                if neighbor not in visited:\n",
    "                    stack.append(neighbor)\n",
    "print(\"DFS Traversal order (using stack):\")\n",
    "dfs_using_stack(graph,'A')"
   ]
  },
  {
   "cell_type": "code",
   "execution_count": null,
   "id": "43163a1a",
   "metadata": {},
   "outputs": [],
   "source": []
  }
 ],
 "metadata": {
  "kernelspec": {
   "display_name": "Python 3 (ipykernel)",
   "language": "python",
   "name": "python3"
  },
  "language_info": {
   "codemirror_mode": {
    "name": "ipython",
    "version": 3
   },
   "file_extension": ".py",
   "mimetype": "text/x-python",
   "name": "python",
   "nbconvert_exporter": "python",
   "pygments_lexer": "ipython3",
   "version": "3.11.4"
  }
 },
 "nbformat": 4,
 "nbformat_minor": 5
}
